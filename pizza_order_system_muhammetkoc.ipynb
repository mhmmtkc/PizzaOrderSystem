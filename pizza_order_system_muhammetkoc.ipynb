{
  "cells": [
    {
      "cell_type": "code",
      "execution_count": 1,
      "metadata": {
        "id": "NDM-5SvlUgBQ"
      },
      "outputs": [],
      "source": [
        "#gerekli kütüphaneler eklendi\n",
        "import csv\n",
        "import datetime\n",
        "import time"
      ]
    },
    {
      "cell_type": "code",
      "execution_count": 2,
      "metadata": {
        "colab": {
          "base_uri": "https://localhost:8080/"
        },
        "id": "Zqqx7-SVx6FS",
        "outputId": "a3288e1e-a952-42f1-85fd-f9310f103468"
      },
      "outputs": [
        {
          "name": "stdout",
          "output_type": "stream",
          "text": [
            "* LÃ¼tfen Bir Pizza TabanÄ± SeÃ§iniz:\n",
            "1: Klasik\n",
            "2: Margarita\n",
            "3: TÃ¼rkPizza\n",
            "4: Sade Pizza\n",
            "* ve seÃ§eceÄŸiniz sos:\n",
            "11: Zeytin\n",
            "12: Mantarlar\n",
            "13: KeÃ§i Peyniri\n",
            "14: Et\n",
            "15: SoÄŸan\n",
            "16: MÄ±sÄ±r\n",
            "* TeÅŸekkÃ¼r ederiz!\n",
            "\n"
          ]
        }
      ],
      "source": [
        "#menü dosyası okunur\n",
        "menu = open(\"menu.txt\",\"r\")\n",
        "print(menu.read())"
      ]
    },
    {
      "cell_type": "code",
      "execution_count": 3,
      "metadata": {
        "id": "nFDVpUGw6I-C"
      },
      "outputs": [],
      "source": [
        "# Pizza sınıfı oluşturuldu\n",
        "class Pizza():\n",
        "  def __init__(self, description,cost):\n",
        "    self.description = description\n",
        "    self.cost = cost\n",
        "    print(\"Sipariş Oluşturuldu...\")\n",
        "  def get_description(self):\n",
        "    return self.description\n",
        "  def get_cost(self):\n",
        "    return self.cost"
      ]
    },
    {
      "cell_type": "code",
      "execution_count": 4,
      "metadata": {
        "id": "euB2L9Zd96fk"
      },
      "outputs": [],
      "source": [
        "#classic pizza alt sınıfı oluşturuldu\n",
        "class Classic_pizza(Pizza):\n",
        "  def __init__(self):\n",
        "    self.description= \"Klasik pizza\"\n",
        "    self.cost=30\n",
        "#Margarita pizza alt sınıfı oluşturuldu\n",
        "class Margarita_pizza(Pizza):\n",
        "  def __init__(self):\n",
        "    self.description= \"Margarita pizza\"\n",
        "    self.cost=40\n",
        "#TürkPizza pizza alt sınıfı oluşturuldu\n",
        "class TurkPizza_pizza(Pizza):\n",
        "  def __init__(self):\n",
        "    self.description= \"TurkPizza\"\n",
        "    self.cost=50\n",
        "#plain pizza alt sınıfı oluşturuldu\n",
        "class Plain_pizza(Pizza):\n",
        "  def __init__(self):\n",
        "    self.description= \"Sade pizza\"\n",
        "    self.cost=20\n"
      ]
    },
    {
      "cell_type": "code",
      "execution_count": 5,
      "metadata": {
        "id": "nlOY0Bra36Id"
      },
      "outputs": [],
      "source": [
        "  #decorator sınıfı oluşturuldu\n",
        "class Decorator():\n",
        "    def __init__(self,description,cost):\n",
        "      self.description=description\n",
        "      self.cost=cost\n",
        "    def get_cost(self,base_cost):\n",
        "        return self.cost + base_cost\n",
        "    def get_description(self,base_description):\n",
        "        return self.description +' '+ base_description\n"
      ]
    },
    {
      "cell_type": "code",
      "execution_count": 6,
      "metadata": {
        "id": "58RX1W2gMIb8"
      },
      "outputs": [],
      "source": [
        "#decorator sınıfı kullanılarak sos alt sınıfları oluşturuldu\n",
        "class Zeytin(Decorator):\n",
        "  def __init__(self):\n",
        "      self.description=\"Zeytinli\"\n",
        "      self.cost=10\n",
        "class Mantar(Decorator):\n",
        "  def __init__(self):\n",
        "      self.description=\"Mantarli\"\n",
        "      self.cost=12\n",
        "class Peynir(Decorator):\n",
        "  def __init__(self):\n",
        "      self.description=\"Peynirli\"\n",
        "      self.cost=14\n",
        "class Et(Decorator):\n",
        "  def __init__(self):\n",
        "      self.description=\"Etli\"\n",
        "      self.cost=15\n",
        "class Sogan(Decorator):\n",
        "  def __init__(self):\n",
        "      self.description=\"Soganli\"\n",
        "      self.cost=8\n",
        "class Misir(Decorator):\n",
        "  def __init__(self):\n",
        "      self.description=\"Misirli\"\n",
        "      self.cost=11\n"
      ]
    },
    {
      "cell_type": "code",
      "execution_count": 7,
      "metadata": {
        "id": "exzAz4DZrx6E"
      },
      "outputs": [],
      "source": [
        "#Menü seçimleri bir fonksiyon yardımıyla siparişi oluşturur\n",
        "#Switch-case yapısına python sürümü(colab.google python =v3.9) uygun olmadığı için if-else kullanıldı\n",
        "def total(pizza_base,sauce):\n",
        "  if pizza_base== 1:\n",
        "        pizza_base = Classic_pizza()\n",
        "  elif pizza_base== 2:\n",
        "        pizza_base = Margarita_pizza()\n",
        "  elif pizza_base== 3:\n",
        "        pizza_base = TurkPizza_pizza()\n",
        "  else:\n",
        "        pizza_base = Plain_pizza()\n",
        "  if sauce== 11:\n",
        "        sauce=Zeytin()\n",
        "  elif sauce== 12:\n",
        "        sauce=Mantar()\n",
        "  elif sauce==  13:\n",
        "        sauce=Peynir()\n",
        "  elif sauce==  14:\n",
        "        sauce=Et()\n",
        "  elif sauce==  15:\n",
        "        sauce=Sogan()\n",
        "  else:\n",
        "       sauce=Misir()\n",
        "  total= Pizza(sauce.get_description(pizza_base.get_description()),sauce.get_cost(pizza_base.get_cost()))\n",
        "  return total "
      ]
    },
    {
      "cell_type": "code",
      "execution_count": 8,
      "metadata": {
        "id": "84IvVwVw6Vy4"
      },
      "outputs": [],
      "source": [
        "#Müşterilerin tüm bigilerini içeren Customer sınıfı oluşturuldu\n",
        "class Customer():\n",
        "  def __init__(self,username,passport_number,card_number,card_date,card_cvv,order_description,order_cost,order_time):\n",
        "    self.username=username\n",
        "    self.passport_number=passport_number\n",
        "    self.card_number= card_number\n",
        "    self.card_date=card_date\n",
        "    self.card_cvv= card_cvv\n",
        "    self.order_description=order_description\n",
        "    self.order_cost=order_cost\n",
        "    self.order_time= order_time\n",
        "  def get_username(self):\n",
        "    return self.username\n",
        "  def get_passport_number(self):\n",
        "    return self.passport_number\n",
        "  def get_card_number(self):\n",
        "    return self.card_number\n",
        "  def get_card_date(self):\n",
        "    return self.card_date\n",
        "  def get_card_cvv(self):\n",
        "    return self.card_cvv\n",
        "  def get_order_description(self):\n",
        "    return self.order_description\n",
        "  def get_order_cost(self):\n",
        "    return self.order_cost\n",
        "  def get_order_time(self):\n",
        "    return self.order_time\n",
        "    \n"
      ]
    },
    {
      "cell_type": "code",
      "execution_count": 9,
      "metadata": {
        "id": "swd8khm7-t9N"
      },
      "outputs": [],
      "source": [
        "#Müsterinin tüm bilgilerinin Customer sınıfına yazılmasını sağlar\n",
        "def info(order):\n",
        "  while(True):\n",
        "    username= input(\"Kullanıcı adınızı giriniz: \")\n",
        "    passport_number=input(\"Tc kimlik numaranızı giriniz: \")\n",
        "    print(\"Şimdi ödeme için Banka kartı bilgilerinizi girmenizi isteyeceğiz.\\n\")\n",
        "    card_number= input(\"Kart numarası: \")\n",
        "    card_date= input(\"Kartınızın son kullanma tarihi(AA/YY): \")\n",
        "    card_cvv=input(\"Kartınızın arkasında bulunan üç haneli güvenlik kodunu giriniz:\")\n",
        "    order_time=str(datetime.datetime.now())\n",
        "    customer=Customer(username,passport_number,card_number,card_date,card_cvv,order.get_description(),order.get_cost(),order_time)\n",
        "    print(\"\\n\\nÖnemli Not!!!\\nBilgilerinizin doğruluğunu kontrol ediniz.Yanlışlık olduğunu düşünüyorsanız tekrar giriniz. Sorumluluk size aittir.\\n\")\n",
        "    print(f\"kullanıcı adı:{username}, Tc kimlik:{passport_number}, kart numamrası:{card_number}, kart s.k.t:{card_date}, \\ncard cvv:{card_cvv}, sipariş:{order.get_description()}, tutar:{order.get_cost()}, sipariş zamanı:{order_time}\")\n",
        "    check=input(\"\\n Devam edilsin mi?(e/h)\")\n",
        "    if check=='e' or check=='evet':\n",
        "      return customer\n",
        "      break\n",
        "    else:\n",
        "      print(\"Bilgilerinizi tekrar giriniz...\\n\\n\")\n"
      ]
    },
    {
      "cell_type": "code",
      "execution_count": 10,
      "metadata": {
        "id": "7KR5-pGsHhmW"
      },
      "outputs": [],
      "source": [
        "#Müşteri bilgilerinin database dosyasına yazılmasını sağlar\n",
        "def write_database(customer):\n",
        "  with open('Orders_Database.csv', 'a', newline='') as file:\n",
        "       writer = csv.writer(file,delimiter=';')\n",
        "     \n",
        "       writer.writerow([\"Kullanici adi\", \"Tc Kimlik No\", \"Kart Numarasi\",\"Kart SKT\",\"Kart CVV\",\"Siparis\",\"Tutar\",\"Tarih\"])\n",
        "       writer.writerow(list((customer.get_username(),customer.get_passport_number(),customer.get_card_number(),customer.get_card_date(),customer.get_card_cvv(),customer.get_order_description(),customer.get_order_cost(),customer.get_order_time())))\n",
        "       writer.writerow([])"
      ]
    },
    {
      "cell_type": "code",
      "execution_count": 11,
      "metadata": {
        "id": "wIrXLy0dPPbT"
      },
      "outputs": [],
      "source": [
        "# kullanılmıyor -Customer sınıfından liste oluşturan fonksiyon\n",
        "def create_list(customer):\n",
        "  info_list=list((customer.get_username(),customer.get_passport_number(),customer.get_card_number(),customer.get_card_date(),customer.get_card_cvv(),customer.get_order_description(),customer.get_order_cost(),customer.get_order_time()))\n",
        "  return info_list"
      ]
    },
    {
      "cell_type": "code",
      "execution_count": null,
      "metadata": {
        "id": "3ofa6nUgbvao"
      },
      "outputs": [],
      "source": [
        "def main():\n",
        "  with open('menu.txt', 'r') as f:\n",
        "    print(\"Müthiş pizzaya hoşgeldiniz! MüthişPizza  müthiş müşteri memmnuniyeti sunar!\")\n",
        "    while(True):\n",
        "      while(True):\n",
        "        for i in range(5):\n",
        "          print(f.readline())\n",
        "        while(True):\n",
        "          pizza_base= int(input(\"(1,2,3,4):\"))\n",
        "          if pizza_base == 1 or pizza_base == 2 or pizza_base == 3 or pizza_base == 4:\n",
        "            break\n",
        "          print(\"Doğru bir giriş yapmadınız lütfen sadece 1,2,3,4 rakamlarını kullanın.\")\n",
        "          time.sleep(2)\n",
        "        print(\"\\n\\n\")\n",
        "        for i in range(8):\n",
        "          print(f.readline())\n",
        "        f.seek(0)\n",
        "        while(True):\n",
        "          sauce= int(input(\"(11,12,13,14,15,16):\"))\n",
        "          if sauce == 11 or sauce == 12 or sauce == 13 or sauce == 14 or sauce==15 or sauce==16:\n",
        "            break\n",
        "          print(\"Doğru bir giriş yapmadınız lütfen sadece 11,12,13,14,15,16 rakamlarını kullanın.\")\n",
        "          time.sleep(2)\n",
        "        order= total(pizza_base,sauce)\n",
        "        print(f\"\\n\\nSiparişiniz:{order.get_description()},sipariş tutarı:{order.get_cost()}\")\n",
        "        check=input(\"\\n Seçimi onaylıyor musunuz?(e/h)\")\n",
        "        if check=='e' or check=='evet':\n",
        "          customer=info(order)\n",
        "          write_database(customer)\n",
        "          break\n",
        "        else:\n",
        "          print(\"Tekrar seçim yapınız...\\n\\n\")\n",
        "      check=input(\"\\n Başka bir sipariş oluşturmak istiyor musunuz?(e/h)\")\n",
        "      if check=='h' or check=='hayır':\n",
        "        break\n",
        "      else:\n",
        "        print(\"Tekrar seçim yapınız...\\n\\n\")\n",
        "\n",
        "if __name__==\"__main__\":\n",
        "  main()"
      ]
    }
  ],
  "metadata": {
    "colab": {
      "provenance": []
    },
    "kernelspec": {
      "display_name": "Python 3",
      "name": "python3"
    },
    "language_info": {
      "codemirror_mode": {
        "name": "ipython",
        "version": 3
      },
      "file_extension": ".py",
      "mimetype": "text/x-python",
      "name": "python",
      "nbconvert_exporter": "python",
      "pygments_lexer": "ipython3",
      "version": "3.10.0"
    }
  },
  "nbformat": 4,
  "nbformat_minor": 0
}
